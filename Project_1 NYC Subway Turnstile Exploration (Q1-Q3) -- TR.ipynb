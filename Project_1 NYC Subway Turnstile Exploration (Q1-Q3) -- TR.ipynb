{
 "cells": [
  {
   "cell_type": "markdown",
   "metadata": {},
   "source": [
    "# Project_1 NYC Subway Turnstile Exploration (Q1-Q3)\n",
    "\n",
    "Team: Lakshmi, Michael, Tim"
   ]
  },
  {
   "cell_type": "markdown",
   "metadata": {},
   "source": [
    "## Challenge 1\n",
    "\n",
    "Open up a new IPython notebook\n",
    "Download a few MTA turnstile data files\n",
    "Open up a file, use csv reader to read it, make a python dict where there is a key for each (C/A, UNIT, SCP, STATION). These are the first four columns. The value for this key should be a list of lists. Each list in the list is the rest of the columns in a row. For example, one key-value pair should look like\n",
    "\n",
    "{ ('A002','R051','02-00-00','LEXINGTON AVE'): [ ['NQR456', 'BMT', '01/03/2015', '03:00:00', 'REGULAR', '0004945474', '0001675324'], ['NQR456', 'BMT', '01/03/2015', '07:00:00', 'REGULAR', '0004945478', '0001675333'], ['NQR456', 'BMT', '01/03/2015', '11:00:00', 'REGULAR', '0004945515', '0001675364'], ... ] }"
   ]
  },
  {
   "cell_type": "code",
   "execution_count": 2,
   "metadata": {
    "scrolled": true
   },
   "outputs": [
    {
     "data": {
      "text/html": [
       "<div>\n",
       "<style scoped>\n",
       "    .dataframe tbody tr th:only-of-type {\n",
       "        vertical-align: middle;\n",
       "    }\n",
       "\n",
       "    .dataframe tbody tr th {\n",
       "        vertical-align: top;\n",
       "    }\n",
       "\n",
       "    .dataframe thead th {\n",
       "        text-align: right;\n",
       "    }\n",
       "</style>\n",
       "<table border=\"1\" class=\"dataframe\">\n",
       "  <thead>\n",
       "    <tr style=\"text-align: right;\">\n",
       "      <th></th>\n",
       "      <th>C/A</th>\n",
       "      <th>UNIT</th>\n",
       "      <th>SCP</th>\n",
       "      <th>STATION</th>\n",
       "      <th>LINENAME</th>\n",
       "      <th>DIVISION</th>\n",
       "      <th>DATE</th>\n",
       "      <th>TIME</th>\n",
       "      <th>DESC</th>\n",
       "      <th>ENTRIES</th>\n",
       "      <th>EXITS</th>\n",
       "    </tr>\n",
       "  </thead>\n",
       "  <tbody>\n",
       "    <tr>\n",
       "      <th>0</th>\n",
       "      <td>A002</td>\n",
       "      <td>R051</td>\n",
       "      <td>02-00-00</td>\n",
       "      <td>59 ST</td>\n",
       "      <td>NQR456W</td>\n",
       "      <td>BMT</td>\n",
       "      <td>09/15/2018</td>\n",
       "      <td>00:00:00</td>\n",
       "      <td>REGULAR</td>\n",
       "      <td>6759219</td>\n",
       "      <td>2291425</td>\n",
       "    </tr>\n",
       "    <tr>\n",
       "      <th>1</th>\n",
       "      <td>A002</td>\n",
       "      <td>R051</td>\n",
       "      <td>02-00-00</td>\n",
       "      <td>59 ST</td>\n",
       "      <td>NQR456W</td>\n",
       "      <td>BMT</td>\n",
       "      <td>09/15/2018</td>\n",
       "      <td>04:00:00</td>\n",
       "      <td>REGULAR</td>\n",
       "      <td>6759234</td>\n",
       "      <td>2291429</td>\n",
       "    </tr>\n",
       "    <tr>\n",
       "      <th>2</th>\n",
       "      <td>A002</td>\n",
       "      <td>R051</td>\n",
       "      <td>02-00-00</td>\n",
       "      <td>59 ST</td>\n",
       "      <td>NQR456W</td>\n",
       "      <td>BMT</td>\n",
       "      <td>09/15/2018</td>\n",
       "      <td>08:00:00</td>\n",
       "      <td>REGULAR</td>\n",
       "      <td>6759251</td>\n",
       "      <td>2291453</td>\n",
       "    </tr>\n",
       "    <tr>\n",
       "      <th>3</th>\n",
       "      <td>A002</td>\n",
       "      <td>R051</td>\n",
       "      <td>02-00-00</td>\n",
       "      <td>59 ST</td>\n",
       "      <td>NQR456W</td>\n",
       "      <td>BMT</td>\n",
       "      <td>09/15/2018</td>\n",
       "      <td>12:00:00</td>\n",
       "      <td>REGULAR</td>\n",
       "      <td>6759330</td>\n",
       "      <td>2291532</td>\n",
       "    </tr>\n",
       "    <tr>\n",
       "      <th>4</th>\n",
       "      <td>A002</td>\n",
       "      <td>R051</td>\n",
       "      <td>02-00-00</td>\n",
       "      <td>59 ST</td>\n",
       "      <td>NQR456W</td>\n",
       "      <td>BMT</td>\n",
       "      <td>09/15/2018</td>\n",
       "      <td>16:00:00</td>\n",
       "      <td>REGULAR</td>\n",
       "      <td>6759538</td>\n",
       "      <td>2291574</td>\n",
       "    </tr>\n",
       "  </tbody>\n",
       "</table>\n",
       "</div>"
      ],
      "text/plain": [
       "    C/A  UNIT       SCP STATION LINENAME DIVISION        DATE      TIME  \\\n",
       "0  A002  R051  02-00-00   59 ST  NQR456W      BMT  09/15/2018  00:00:00   \n",
       "1  A002  R051  02-00-00   59 ST  NQR456W      BMT  09/15/2018  04:00:00   \n",
       "2  A002  R051  02-00-00   59 ST  NQR456W      BMT  09/15/2018  08:00:00   \n",
       "3  A002  R051  02-00-00   59 ST  NQR456W      BMT  09/15/2018  12:00:00   \n",
       "4  A002  R051  02-00-00   59 ST  NQR456W      BMT  09/15/2018  16:00:00   \n",
       "\n",
       "      DESC  ENTRIES  \\\n",
       "0  REGULAR  6759219   \n",
       "1  REGULAR  6759234   \n",
       "2  REGULAR  6759251   \n",
       "3  REGULAR  6759330   \n",
       "4  REGULAR  6759538   \n",
       "\n",
       "   EXITS                                                                 \n",
       "0                                            2291425                     \n",
       "1                                            2291429                     \n",
       "2                                            2291453                     \n",
       "3                                            2291532                     \n",
       "4                                            2291574                     "
      ]
     },
     "execution_count": 2,
     "metadata": {},
     "output_type": "execute_result"
    }
   ],
   "source": [
    "import datetime\n",
    "from collections import defaultdict\n",
    "import pandas as pd\n",
    "\n",
    "file = 'turnstile_180922.txt'\n",
    "data = pd.read_csv(file)\n",
    "data.head(5)"
   ]
  },
  {
   "cell_type": "code",
   "execution_count": 3,
   "metadata": {
    "scrolled": false
   },
   "outputs": [],
   "source": [
    "file = 'turnstile_180922.txt'\n",
    "\n",
    "def create_dict(file):\n",
    "    \"\"\"\n",
    "    create_dict() takes file arguemnt ('turnstile_180922.txt') and converts the file into the specified \n",
    "    dictionary format with keys composed of a tuple that can be interpreted as a unique tunrnstyle id, for instance:\n",
    "    \n",
    "    ('A002','R051','02-00-00','LEXINGTON AVE')\n",
    "    \n",
    "    and the values as a list data including the time information and entry/exit information, for instance:\n",
    "    \n",
    "    [['NQR456', 'BMT', '01/03/2015', '03:00:00', 'REGULAR', '0004945474', '0001675324'], \n",
    "     ['NQR456', 'BMT', '01/03/2015', '07:00:00', 'REGULAR', '0004945478', '0001675333'],...]\n",
    "    \"\"\"\n",
    "    data = pd.read_csv(file)\n",
    "    dd = defaultdict(list)\n",
    "    for r in data.itertuples() :\n",
    "        key = (r[1], r[2], r[3], r[4])\n",
    "        dd[key].append(list(r[5:]))\n",
    "    return(dd)\n",
    "\n",
    "problem_1 = create_dict(file)\n"
   ]
  },
  {
   "cell_type": "code",
   "execution_count": 4,
   "metadata": {},
   "outputs": [
    {
     "name": "stdout",
     "output_type": "stream",
     "text": [
      "{\n",
      "\n",
      "('A002', 'R051', '02-00-00', '59 ST') : [['NQR456W', 'BMT', '09/15/2018', '00:00:00', 'REGULAR', 6759219, 2291425], ['NQR456W', 'BMT', '09/15/2018', '04:00:00', 'REGULAR', 6759234, 2291429], ['NQR456W', 'BMT', '09/15/2018', '08:00:00', 'REGULAR', 6759251, 2291453], ['NQR456W', 'BMT', '09/15/2018', '12:00:00', 'REGULAR', 6759330, 2291532], ['NQR456W', 'BMT', '09/15/2018', '16:00:00', 'REGULAR', 6759538, 2291574], ['NQR456W', 'BMT', '09/15/2018', '20:00:00', 'REGULAR', 6759808, 2291608], ['NQR456W', 'BMT', '09/16/2018', '00:00:00', 'REGULAR', 6759951, 2291626], ['NQR456W', 'BMT', '09/16/2018', '04:00:00', 'REGULAR', 6759968, 2291630], ['NQR456W', 'BMT', '09/16/2018', '08:00:00', 'REGULAR', 6759987, 2291639], ['NQR456W', 'BMT', '09/16/2018', '12:00:00', 'REGULAR', 6760045, 2291661], ['NQR456W', 'BMT', '09/16/2018', '16:00:00', 'REGULAR', 6760160, 2291672], ['NQR456W', 'BMT', '09/16/2018', '20:00:00', 'REGULAR', 6760301, 2291683], ['NQR456W', 'BMT', '09/17/2018', '00:00:00', 'REGULAR', 6760373, 2291684], ['NQR456W', 'BMT', '09/17/2018', '04:00:00', 'REGULAR', 6760378, 2291687], ['NQR456W', 'BMT', '09/17/2018', '08:00:00', 'REGULAR', 6760412, 2291814], ['NQR456W', 'BMT', '09/17/2018', '12:00:00', 'REGULAR', 6760526, 2292066], ['NQR456W', 'BMT', '09/17/2018', '16:00:00', 'REGULAR', 6760809, 2292116], ['NQR456W', 'BMT', '09/17/2018', '20:00:00', 'REGULAR', 6761564, 2292178], ['NQR456W', 'BMT', '09/18/2018', '00:00:00', 'REGULAR', 6761730, 2292204], ['NQR456W', 'BMT', '09/18/2018', '04:00:00', 'REGULAR', 6761745, 2292205], ['NQR456W', 'BMT', '09/18/2018', '08:00:00', 'REGULAR', 6761778, 2292321], ['NQR456W', 'BMT', '09/18/2018', '12:00:00', 'REGULAR', 6761913, 2292560], ['NQR456W', 'BMT', '09/18/2018', '16:00:00', 'REGULAR', 6762203, 2292619], ['NQR456W', 'BMT', '09/18/2018', '20:00:00', 'REGULAR', 6762919, 2292694], ['NQR456W', 'BMT', '09/19/2018', '00:00:00', 'REGULAR', 6763079, 2292715], ['NQR456W', 'BMT', '09/19/2018', '04:00:00', 'REGULAR', 6763097, 2292716], ['NQR456W', 'BMT', '09/19/2018', '08:00:00', 'REGULAR', 6763140, 2292809], ['NQR456W', 'BMT', '09/19/2018', '12:00:00', 'REGULAR', 6763278, 2293012], ['NQR456W', 'BMT', '09/19/2018', '16:00:00', 'REGULAR', 6763565, 2293076], ['NQR456W', 'BMT', '09/19/2018', '20:00:00', 'REGULAR', 6764299, 2293118], ['NQR456W', 'BMT', '09/20/2018', '00:00:00', 'REGULAR', 6764482, 2293147], ['NQR456W', 'BMT', '09/20/2018', '04:00:00', 'REGULAR', 6764494, 2293148], ['NQR456W', 'BMT', '09/20/2018', '07:26:01', 'REGULAR', 6764512, 2293206], ['NQR456W', 'BMT', '09/20/2018', '08:00:00', 'REGULAR', 6764529, 2293257], ['NQR456W', 'BMT', '09/20/2018', '12:00:00', 'REGULAR', 6764691, 2293501], ['NQR456W', 'BMT', '09/20/2018', '16:00:00', 'REGULAR', 6764991, 2293576], ['NQR456W', 'BMT', '09/20/2018', '20:00:00', 'REGULAR', 6765784, 2293634], ['NQR456W', 'BMT', '09/21/2018', '00:00:00', 'REGULAR', 6765976, 2293661], ['NQR456W', 'BMT', '09/21/2018', '04:00:00', 'REGULAR', 6765985, 2293665], ['NQR456W', 'BMT', '09/21/2018', '08:00:00', 'REGULAR', 6766026, 2293779], ['NQR456W', 'BMT', '09/21/2018', '12:00:00', 'REGULAR', 6766182, 2294031], ['NQR456W', 'BMT', '09/21/2018', '16:00:00', 'REGULAR', 6766532, 2294117], ['NQR456W', 'BMT', '09/21/2018', '20:00:00', 'REGULAR', 6767315, 2294186]]\n",
      "\n",
      "('A002', 'R051', '02-00-01', '59 ST') : [['NQR456W', 'BMT', '09/15/2018', '00:00:00', 'REGULAR', 6045231, 1353980], ['NQR456W', 'BMT', '09/15/2018', '04:00:00', 'REGULAR', 6045246, 1353981], ['NQR456W', 'BMT', '09/15/2018', '08:00:00', 'REGULAR', 6045257, 1353992], ['NQR456W', 'BMT', '09/15/2018', '12:00:00', 'REGULAR', 6045323, 1354034], ['NQR456W', 'BMT', '09/15/2018', '16:00:00', 'REGULAR', 6045486, 1354062], ['NQR456W', 'BMT', '09/15/2018', '20:00:00', 'REGULAR', 6045716, 1354078], ['NQR456W', 'BMT', '09/16/2018', '00:00:00', 'REGULAR', 6045808, 1354088], ['NQR456W', 'BMT', '09/16/2018', '04:00:00', 'REGULAR', 6045820, 1354090], ['NQR456W', 'BMT', '09/16/2018', '08:00:00', 'REGULAR', 6045831, 1354096], ['NQR456W', 'BMT', '09/16/2018', '12:00:00', 'REGULAR', 6045871, 1354104], ['NQR456W', 'BMT', '09/16/2018', '16:00:00', 'REGULAR', 6045958, 1354108], ['NQR456W', 'BMT', '09/16/2018', '20:00:00', 'REGULAR', 6046062, 1354118], ['NQR456W', 'BMT', '09/17/2018', '00:00:00', 'REGULAR', 6046110, 1354119], ['NQR456W', 'BMT', '09/17/2018', '04:00:00', 'REGULAR', 6046114, 1354121], ['NQR456W', 'BMT', '09/17/2018', '08:00:00', 'REGULAR', 6046139, 1354167], ['NQR456W', 'BMT', '09/17/2018', '12:00:00', 'REGULAR', 6046233, 1354286], ['NQR456W', 'BMT', '09/17/2018', '16:00:00', 'REGULAR', 6046460, 1354318], ['NQR456W', 'BMT', '09/17/2018', '20:00:00', 'REGULAR', 6047038, 1354351], ['NQR456W', 'BMT', '09/18/2018', '00:00:00', 'REGULAR', 6047161, 1354356], ['NQR456W', 'BMT', '09/18/2018', '04:00:00', 'REGULAR', 6047174, 1354358], ['NQR456W', 'BMT', '09/18/2018', '08:00:00', 'REGULAR', 6047204, 1354425], ['NQR456W', 'BMT', '09/18/2018', '12:00:00', 'REGULAR', 6047340, 1354534], ['NQR456W', 'BMT', '09/18/2018', '16:00:00', 'REGULAR', 6047570, 1354572], ['NQR456W', 'BMT', '09/18/2018', '20:00:00', 'REGULAR', 6048137, 1354616], ['NQR456W', 'BMT', '09/19/2018', '00:00:00', 'REGULAR', 6048245, 1354629], ['NQR456W', 'BMT', '09/19/2018', '04:00:00', 'REGULAR', 6048249, 1354634], ['NQR456W', 'BMT', '09/19/2018', '08:00:00', 'REGULAR', 6048270, 1354676], ['NQR456W', 'BMT', '09/19/2018', '12:00:00', 'REGULAR', 6048398, 1354766], ['NQR456W', 'BMT', '09/19/2018', '16:00:00', 'REGULAR', 6048618, 1354801], ['NQR456W', 'BMT', '09/19/2018', '20:00:00', 'REGULAR', 6049114, 1354847], ['NQR456W', 'BMT', '09/20/2018', '00:00:00', 'REGULAR', 6049254, 1354862], ['NQR456W', 'BMT', '09/20/2018', '04:00:00', 'REGULAR', 6049265, 1354865], ['NQR456W', 'BMT', '09/20/2018', '07:26:01', 'REGULAR', 6049284, 1354899], ['NQR456W', 'BMT', '09/20/2018', '08:00:00', 'REGULAR', 6049302, 1354922], ['NQR456W', 'BMT', '09/20/2018', '12:00:00', 'REGULAR', 6049429, 1355045], ['NQR456W', 'BMT', '09/20/2018', '16:00:00', 'REGULAR', 6049690, 1355090], ['NQR456W', 'BMT', '09/20/2018', '20:00:00', 'REGULAR', 6050307, 1355138], ['NQR456W', 'BMT', '09/21/2018', '00:00:00', 'REGULAR', 6050467, 1355159], ['NQR456W', 'BMT', '09/21/2018', '04:00:00', 'REGULAR', 6050476, 1355163], ['NQR456W', 'BMT', '09/21/2018', '08:00:00', 'REGULAR', 6050506, 1355200], ['NQR456W', 'BMT', '09/21/2018', '12:00:00', 'REGULAR', 6050651, 1355312], ['NQR456W', 'BMT', '09/21/2018', '16:00:00', 'REGULAR', 6050911, 1355356], ['NQR456W', 'BMT', '09/21/2018', '20:00:00', 'REGULAR', 6051527, 1355416]]\n",
      "\n",
      "}\n"
     ]
    }
   ],
   "source": [
    "def dict_head(d, n=5):\n",
    "    \"\"\"\n",
    "    dict_head() is a simple function to inspect n items of a large dictionary like the built-in function head().\n",
    "    \"\"\"\n",
    "    key_list = list(d.keys())\n",
    "    print('{\\n')\n",
    "    for i in range(n):\n",
    "        key = key_list[i]\n",
    "        val = d[key]\n",
    "        print(f'{key} : {val}\\n')\n",
    "    print('}')\n",
    "\n",
    "dict_head(problem_1, 2)"
   ]
  },
  {
   "cell_type": "markdown",
   "metadata": {},
   "source": [
    "## Challenge 2\n",
    "\n",
    "Let's turn this into a time series.\n",
    "\n",
    "For each key (basically the control area, unit, device address and station of a specific turnstile), have a list again, but let the list be comprised of just the point in time and the count of entries.\n",
    "\n",
    "This basically means keeping only the date, time, and entries fields in each list. You can convert the date and time into datetime objects -- That is a python class that represents a point in time. You can combine the date and time fields into a string and use the dateutil module to convert it into a datetime object. For an example check this StackOverflow question.\n",
    "\n",
    "Your new dict should look something like\n",
    "\n",
    "{ ('A002','R051','02-00-00','LEXINGTON AVE'): [ [datetime.datetime(2013, 3, 2, 3, 0), 3788], [datetime.datetime(2013, 3, 2, 7, 0), 2585], [datetime.datetime(2013, 3, 2, 12, 0), 10653], [datetime.datetime(2013, 3, 2, 17, 0), 11016], [datetime.datetime(2013, 3, 2, 23, 0), 10666], [datetime.datetime(2013, 3, 3, 3, 0), 10814], [datetime.datetime(2013, 3, 3, 7, 0), 10229], ... ], .... }"
   ]
  },
  {
   "cell_type": "code",
   "execution_count": 47,
   "metadata": {},
   "outputs": [],
   "source": [
    "file = 'turnstile_180922.txt'\n",
    "\n",
    "def create_focused_dict(file):\n",
    "    \"\"\"\n",
    "    create_focused_dict() takes file arguemnt ('turnstile_180922.txt') and converts the file into the specified \n",
    "    dictionary format with keys composed of a tuple that can be interpreted as a unique tunrnstyle id, for instance:\n",
    "    \n",
    "    ('A002','R051','02-00-00','LEXINGTON AVE')\n",
    "    \n",
    "    and the values as a list data including the datetime information and entry/exit information, for instance:\n",
    "    \n",
    "    [[datetime.datetime(2013, 3, 2, 3, 0), 3788], [datetime.datetime(2013, 3, 2, 7, 0), 2585], \n",
    "    [datetime.datetime(2013, 3, 2, 12, 0), 10653], [datetime.datetime(2013, 3, 2, 17, 0), 11016],...] \n",
    "    \"\"\"\n",
    "    data = pd.read_csv(file)\n",
    "    #convert the date and time columns to datetime.datetime objects\n",
    "    data['DATE_TIME_str'] = data['DATE'].astype(str) + ' ' + data['TIME'].astype(str)\n",
    "    data['DATE_TIME'] = pd.to_datetime(data['DATE_TIME_str'], format=\"%m/%d/%Y %H:%M:%S\")\n",
    "    \n",
    "    #focus the dataframe on the specified information (see docstring above)\n",
    "    data1 = data[['C/A', 'UNIT', 'SCP', 'STATION', 'DATE_TIME', 'ENTRIES']]\n",
    "    dd = defaultdict(list)\n",
    "    for r in data1.itertuples() :\n",
    "        key = r[1:5]\n",
    "        dd[key].append(list((r[-2:])))\n",
    "    return(dd)\n",
    "\n",
    "problem_2 = create_focused_dict(file)\n"
   ]
  },
  {
   "cell_type": "code",
   "execution_count": 48,
   "metadata": {},
   "outputs": [
    {
     "name": "stdout",
     "output_type": "stream",
     "text": [
      "{\n",
      "\n",
      "('A002', 'R051', '02-00-00', '59 ST') : [[Timestamp('2018-09-15 00:00:00'), 6759219], [Timestamp('2018-09-15 04:00:00'), 6759234], [Timestamp('2018-09-15 08:00:00'), 6759251], [Timestamp('2018-09-15 12:00:00'), 6759330], [Timestamp('2018-09-15 16:00:00'), 6759538], [Timestamp('2018-09-15 20:00:00'), 6759808], [Timestamp('2018-09-16 00:00:00'), 6759951], [Timestamp('2018-09-16 04:00:00'), 6759968], [Timestamp('2018-09-16 08:00:00'), 6759987], [Timestamp('2018-09-16 12:00:00'), 6760045], [Timestamp('2018-09-16 16:00:00'), 6760160], [Timestamp('2018-09-16 20:00:00'), 6760301], [Timestamp('2018-09-17 00:00:00'), 6760373], [Timestamp('2018-09-17 04:00:00'), 6760378], [Timestamp('2018-09-17 08:00:00'), 6760412], [Timestamp('2018-09-17 12:00:00'), 6760526], [Timestamp('2018-09-17 16:00:00'), 6760809], [Timestamp('2018-09-17 20:00:00'), 6761564], [Timestamp('2018-09-18 00:00:00'), 6761730], [Timestamp('2018-09-18 04:00:00'), 6761745], [Timestamp('2018-09-18 08:00:00'), 6761778], [Timestamp('2018-09-18 12:00:00'), 6761913], [Timestamp('2018-09-18 16:00:00'), 6762203], [Timestamp('2018-09-18 20:00:00'), 6762919], [Timestamp('2018-09-19 00:00:00'), 6763079], [Timestamp('2018-09-19 04:00:00'), 6763097], [Timestamp('2018-09-19 08:00:00'), 6763140], [Timestamp('2018-09-19 12:00:00'), 6763278], [Timestamp('2018-09-19 16:00:00'), 6763565], [Timestamp('2018-09-19 20:00:00'), 6764299], [Timestamp('2018-09-20 00:00:00'), 6764482], [Timestamp('2018-09-20 04:00:00'), 6764494], [Timestamp('2018-09-20 07:26:01'), 6764512], [Timestamp('2018-09-20 08:00:00'), 6764529], [Timestamp('2018-09-20 12:00:00'), 6764691], [Timestamp('2018-09-20 16:00:00'), 6764991], [Timestamp('2018-09-20 20:00:00'), 6765784], [Timestamp('2018-09-21 00:00:00'), 6765976], [Timestamp('2018-09-21 04:00:00'), 6765985], [Timestamp('2018-09-21 08:00:00'), 6766026], [Timestamp('2018-09-21 12:00:00'), 6766182], [Timestamp('2018-09-21 16:00:00'), 6766532], [Timestamp('2018-09-21 20:00:00'), 6767315]]\n",
      "\n",
      "('A002', 'R051', '02-00-01', '59 ST') : [[Timestamp('2018-09-15 00:00:00'), 6045231], [Timestamp('2018-09-15 04:00:00'), 6045246], [Timestamp('2018-09-15 08:00:00'), 6045257], [Timestamp('2018-09-15 12:00:00'), 6045323], [Timestamp('2018-09-15 16:00:00'), 6045486], [Timestamp('2018-09-15 20:00:00'), 6045716], [Timestamp('2018-09-16 00:00:00'), 6045808], [Timestamp('2018-09-16 04:00:00'), 6045820], [Timestamp('2018-09-16 08:00:00'), 6045831], [Timestamp('2018-09-16 12:00:00'), 6045871], [Timestamp('2018-09-16 16:00:00'), 6045958], [Timestamp('2018-09-16 20:00:00'), 6046062], [Timestamp('2018-09-17 00:00:00'), 6046110], [Timestamp('2018-09-17 04:00:00'), 6046114], [Timestamp('2018-09-17 08:00:00'), 6046139], [Timestamp('2018-09-17 12:00:00'), 6046233], [Timestamp('2018-09-17 16:00:00'), 6046460], [Timestamp('2018-09-17 20:00:00'), 6047038], [Timestamp('2018-09-18 00:00:00'), 6047161], [Timestamp('2018-09-18 04:00:00'), 6047174], [Timestamp('2018-09-18 08:00:00'), 6047204], [Timestamp('2018-09-18 12:00:00'), 6047340], [Timestamp('2018-09-18 16:00:00'), 6047570], [Timestamp('2018-09-18 20:00:00'), 6048137], [Timestamp('2018-09-19 00:00:00'), 6048245], [Timestamp('2018-09-19 04:00:00'), 6048249], [Timestamp('2018-09-19 08:00:00'), 6048270], [Timestamp('2018-09-19 12:00:00'), 6048398], [Timestamp('2018-09-19 16:00:00'), 6048618], [Timestamp('2018-09-19 20:00:00'), 6049114], [Timestamp('2018-09-20 00:00:00'), 6049254], [Timestamp('2018-09-20 04:00:00'), 6049265], [Timestamp('2018-09-20 07:26:01'), 6049284], [Timestamp('2018-09-20 08:00:00'), 6049302], [Timestamp('2018-09-20 12:00:00'), 6049429], [Timestamp('2018-09-20 16:00:00'), 6049690], [Timestamp('2018-09-20 20:00:00'), 6050307], [Timestamp('2018-09-21 00:00:00'), 6050467], [Timestamp('2018-09-21 04:00:00'), 6050476], [Timestamp('2018-09-21 08:00:00'), 6050506], [Timestamp('2018-09-21 12:00:00'), 6050651], [Timestamp('2018-09-21 16:00:00'), 6050911], [Timestamp('2018-09-21 20:00:00'), 6051527]]\n",
      "\n",
      "('A002', 'R051', '02-03-00', '59 ST') : [[Timestamp('2018-09-15 00:00:00'), 1126210], [Timestamp('2018-09-15 04:00:00'), 1126218], [Timestamp('2018-09-15 08:00:00'), 1126219], [Timestamp('2018-09-15 12:00:00'), 1126251], [Timestamp('2018-09-15 16:00:00'), 1126361], [Timestamp('2018-09-15 20:00:00'), 1126462], [Timestamp('2018-09-16 00:00:00'), 1126529], [Timestamp('2018-09-16 04:00:00'), 1126536], [Timestamp('2018-09-16 08:00:00'), 1126542], [Timestamp('2018-09-16 12:00:00'), 1126580], [Timestamp('2018-09-16 16:00:00'), 1126643], [Timestamp('2018-09-16 20:00:00'), 1126711], [Timestamp('2018-09-17 00:00:00'), 1126747], [Timestamp('2018-09-17 04:00:00'), 1126750], [Timestamp('2018-09-17 08:00:00'), 1126769], [Timestamp('2018-09-17 12:00:00'), 1126817], [Timestamp('2018-09-17 16:00:00'), 1126913], [Timestamp('2018-09-17 20:00:00'), 1127138], [Timestamp('2018-09-18 00:00:00'), 1127201], [Timestamp('2018-09-18 04:00:00'), 1127207], [Timestamp('2018-09-18 08:00:00'), 1127219], [Timestamp('2018-09-18 12:00:00'), 1127260], [Timestamp('2018-09-18 16:00:00'), 1127372], [Timestamp('2018-09-18 20:00:00'), 1127630], [Timestamp('2018-09-19 00:00:00'), 1127712], [Timestamp('2018-09-19 04:00:00'), 1127716], [Timestamp('2018-09-19 08:00:00'), 1127723], [Timestamp('2018-09-19 12:00:00'), 1127773], [Timestamp('2018-09-19 16:00:00'), 1127866], [Timestamp('2018-09-19 20:00:00'), 1128073], [Timestamp('2018-09-20 00:00:00'), 1128147], [Timestamp('2018-09-20 04:00:00'), 1128149], [Timestamp('2018-09-20 07:26:01'), 1128159], [Timestamp('2018-09-20 08:00:00'), 1128160], [Timestamp('2018-09-20 12:00:00'), 1128208], [Timestamp('2018-09-20 16:00:00'), 1128313], [Timestamp('2018-09-20 20:00:00'), 1128568], [Timestamp('2018-09-21 00:00:00'), 1128660], [Timestamp('2018-09-21 04:00:00'), 1128665], [Timestamp('2018-09-21 08:00:00'), 1128678], [Timestamp('2018-09-21 12:00:00'), 1128737], [Timestamp('2018-09-21 16:00:00'), 1128877], [Timestamp('2018-09-21 20:00:00'), 1129094]]\n",
      "\n",
      "}\n"
     ]
    }
   ],
   "source": [
    "#problem2[('JFK02', 'R535', '01-00-05', 'HOWARD BCH JFK')]\n",
    "dict_head(problem_2, 3)"
   ]
  },
  {
   "cell_type": "markdown",
   "metadata": {},
   "source": [
    "## Challenge 3"
   ]
  },
  {
   "cell_type": "markdown",
   "metadata": {},
   "source": [
    "These counts are for every n hours. (What is n?) We want total daily entries.\n",
    "\n",
    "Now make it that we again have the same keys, but now we have a single value for a single day, which is the total number of passengers that entered through this turnstile on this day."
   ]
  },
  {
   "cell_type": "code",
   "execution_count": 55,
   "metadata": {},
   "outputs": [],
   "source": [
    "def entries_per_day(problem2_ds):\n",
    "    \"\"\"\n",
    "    takes the problem2_ds and sums up all of the entries within 1 day and outputs a new\n",
    "    dictionary where the turnstile keys (same as input) are now associated with the summed\n",
    "    entries for each each day. In effect, this will collapse several 4 hr. entries into \n",
    "    24 hr. entries. And convert Timestamps from \"%Y%m%d %h%m%s\" to \"%Y%m%d\"\n",
    "    \n",
    "    By the way...not all turnstiles have the same number of Timestamps, sometimes data points are missing.\n",
    "    for tup, time_entry in problem2_ds.items() :\n",
    "        date_ts = time_entry[0].date()\n",
    "        print(tup, len(time_entry), date_ts)\n",
    "    \n",
    "    I want a {station => {days => [[timestamps, entries]...] \n",
    "    so that dd[station][day] => all timestamps for that day in order. The first and last can be used to generate\n",
    "    the total entries. dd[station][day][0][1] - dd[station][day][-1][1] \n",
    "    and len(dd[station][day]) should give the number of datapoint collected that day for that station.\n",
    "    \"\"\"\n",
    "    dd = defaultdict(lambda: {})\n",
    "    for tup, time_entries in problem2_ds.items() :\n",
    "        dd[tup] = defaultdict(lambda: [])\n",
    "        for t_e in time_entries :\n",
    "            if len(t_e) == 0 :\n",
    "                next\n",
    "            else :\n",
    "                day = t_e[0].date()\n",
    "                dd[tup][str(day)].append(t_e)\n",
    "    return dd\n",
    "    \n",
    "    \n",
    "problem_3 = entries_per_day(problem_2)\n",
    "\n"
   ]
  },
  {
   "cell_type": "code",
   "execution_count": 79,
   "metadata": {},
   "outputs": [
    {
     "name": "stdout",
     "output_type": "stream",
     "text": [
      "{\n",
      "\n",
      "('A002', 'R051', '02-00-00', '59 ST') : defaultdict(<function entries_per_day.<locals>.<lambda> at 0x1130431e0>, {'2018-09-15': [[Timestamp('2018-09-15 00:00:00'), 6759219], [Timestamp('2018-09-15 04:00:00'), 6759234], [Timestamp('2018-09-15 08:00:00'), 6759251], [Timestamp('2018-09-15 12:00:00'), 6759330], [Timestamp('2018-09-15 16:00:00'), 6759538], [Timestamp('2018-09-15 20:00:00'), 6759808]], '2018-09-16': [[Timestamp('2018-09-16 00:00:00'), 6759951], [Timestamp('2018-09-16 04:00:00'), 6759968], [Timestamp('2018-09-16 08:00:00'), 6759987], [Timestamp('2018-09-16 12:00:00'), 6760045], [Timestamp('2018-09-16 16:00:00'), 6760160], [Timestamp('2018-09-16 20:00:00'), 6760301]], '2018-09-17': [[Timestamp('2018-09-17 00:00:00'), 6760373], [Timestamp('2018-09-17 04:00:00'), 6760378], [Timestamp('2018-09-17 08:00:00'), 6760412], [Timestamp('2018-09-17 12:00:00'), 6760526], [Timestamp('2018-09-17 16:00:00'), 6760809], [Timestamp('2018-09-17 20:00:00'), 6761564]], '2018-09-18': [[Timestamp('2018-09-18 00:00:00'), 6761730], [Timestamp('2018-09-18 04:00:00'), 6761745], [Timestamp('2018-09-18 08:00:00'), 6761778], [Timestamp('2018-09-18 12:00:00'), 6761913], [Timestamp('2018-09-18 16:00:00'), 6762203], [Timestamp('2018-09-18 20:00:00'), 6762919]], '2018-09-19': [[Timestamp('2018-09-19 00:00:00'), 6763079], [Timestamp('2018-09-19 04:00:00'), 6763097], [Timestamp('2018-09-19 08:00:00'), 6763140], [Timestamp('2018-09-19 12:00:00'), 6763278], [Timestamp('2018-09-19 16:00:00'), 6763565], [Timestamp('2018-09-19 20:00:00'), 6764299]], '2018-09-20': [[Timestamp('2018-09-20 00:00:00'), 6764482], [Timestamp('2018-09-20 04:00:00'), 6764494], [Timestamp('2018-09-20 07:26:01'), 6764512], [Timestamp('2018-09-20 08:00:00'), 6764529], [Timestamp('2018-09-20 12:00:00'), 6764691], [Timestamp('2018-09-20 16:00:00'), 6764991], [Timestamp('2018-09-20 20:00:00'), 6765784]], '2018-09-21': [[Timestamp('2018-09-21 00:00:00'), 6765976], [Timestamp('2018-09-21 04:00:00'), 6765985], [Timestamp('2018-09-21 08:00:00'), 6766026], [Timestamp('2018-09-21 12:00:00'), 6766182], [Timestamp('2018-09-21 16:00:00'), 6766532], [Timestamp('2018-09-21 20:00:00'), 6767315]]})\n",
      "\n",
      "('A002', 'R051', '02-00-01', '59 ST') : defaultdict(<function entries_per_day.<locals>.<lambda> at 0x113043158>, {'2018-09-15': [[Timestamp('2018-09-15 00:00:00'), 6045231], [Timestamp('2018-09-15 04:00:00'), 6045246], [Timestamp('2018-09-15 08:00:00'), 6045257], [Timestamp('2018-09-15 12:00:00'), 6045323], [Timestamp('2018-09-15 16:00:00'), 6045486], [Timestamp('2018-09-15 20:00:00'), 6045716]], '2018-09-16': [[Timestamp('2018-09-16 00:00:00'), 6045808], [Timestamp('2018-09-16 04:00:00'), 6045820], [Timestamp('2018-09-16 08:00:00'), 6045831], [Timestamp('2018-09-16 12:00:00'), 6045871], [Timestamp('2018-09-16 16:00:00'), 6045958], [Timestamp('2018-09-16 20:00:00'), 6046062]], '2018-09-17': [[Timestamp('2018-09-17 00:00:00'), 6046110], [Timestamp('2018-09-17 04:00:00'), 6046114], [Timestamp('2018-09-17 08:00:00'), 6046139], [Timestamp('2018-09-17 12:00:00'), 6046233], [Timestamp('2018-09-17 16:00:00'), 6046460], [Timestamp('2018-09-17 20:00:00'), 6047038]], '2018-09-18': [[Timestamp('2018-09-18 00:00:00'), 6047161], [Timestamp('2018-09-18 04:00:00'), 6047174], [Timestamp('2018-09-18 08:00:00'), 6047204], [Timestamp('2018-09-18 12:00:00'), 6047340], [Timestamp('2018-09-18 16:00:00'), 6047570], [Timestamp('2018-09-18 20:00:00'), 6048137]], '2018-09-19': [[Timestamp('2018-09-19 00:00:00'), 6048245], [Timestamp('2018-09-19 04:00:00'), 6048249], [Timestamp('2018-09-19 08:00:00'), 6048270], [Timestamp('2018-09-19 12:00:00'), 6048398], [Timestamp('2018-09-19 16:00:00'), 6048618], [Timestamp('2018-09-19 20:00:00'), 6049114]], '2018-09-20': [[Timestamp('2018-09-20 00:00:00'), 6049254], [Timestamp('2018-09-20 04:00:00'), 6049265], [Timestamp('2018-09-20 07:26:01'), 6049284], [Timestamp('2018-09-20 08:00:00'), 6049302], [Timestamp('2018-09-20 12:00:00'), 6049429], [Timestamp('2018-09-20 16:00:00'), 6049690], [Timestamp('2018-09-20 20:00:00'), 6050307]], '2018-09-21': [[Timestamp('2018-09-21 00:00:00'), 6050467], [Timestamp('2018-09-21 04:00:00'), 6050476], [Timestamp('2018-09-21 08:00:00'), 6050506], [Timestamp('2018-09-21 12:00:00'), 6050651], [Timestamp('2018-09-21 16:00:00'), 6050911], [Timestamp('2018-09-21 20:00:00'), 6051527]]})\n",
      "\n",
      "}\n"
     ]
    }
   ],
   "source": [
    "dict_head(problem_3, 2)"
   ]
  },
  {
   "cell_type": "code",
   "execution_count": 80,
   "metadata": {
    "scrolled": true
   },
   "outputs": [],
   "source": [
    "def site_entries_per_day(problem_3):\n",
    "    \"\"\"\n",
    "    site_entries_per_day() takes problem_3 dataStructure {station => {days => [[timestamps, entries]...]}} and returns a nested dictionary\n",
    "    with {station => {turnstile => { day1 => total ... \n",
    "    \"\"\"\n",
    "\n",
    "    level_1 = {}\n",
    "    for station in problem_3.keys() :\n",
    "        level_2 = {}\n",
    "        for day in problem_3[station].keys() :\n",
    "            level_2[day] = 0   \n",
    "            temp = []\n",
    "            for t_e in problem_3[station].get(day, False) :\n",
    "                #print(f'processing {station} {day} {t_e}')\n",
    "                if t_e :\n",
    "                    try : \n",
    "                        entries = t_e[-1]\n",
    "                        temp.append(entries)\n",
    "                    except :\n",
    "                        print(f'failed for {station} {day} {t_e}')\n",
    "                level_2[day] = temp\n",
    "            level_1[station] = level_2\n",
    "    return level_1\n",
    "        \n",
    "        \n",
    "problem_3b = site_entries_per_day(problem_3)        \n",
    "#problem3b[('A015', 'R081', '00-00-00', '49 ST')]"
   ]
  },
  {
   "cell_type": "code",
   "execution_count": 73,
   "metadata": {},
   "outputs": [
    {
     "name": "stdout",
     "output_type": "stream",
     "text": [
      "{\n",
      "\n",
      "('A002', 'R051', '02-00-00', '59 ST') : {'2018-09-15': [6759219, 6759234, 6759251, 6759330, 6759538, 6759808], '2018-09-16': [6759951, 6759968, 6759987, 6760045, 6760160, 6760301], '2018-09-17': [6760373, 6760378, 6760412, 6760526, 6760809, 6761564], '2018-09-18': [6761730, 6761745, 6761778, 6761913, 6762203, 6762919], '2018-09-19': [6763079, 6763097, 6763140, 6763278, 6763565, 6764299], '2018-09-20': [6764482, 6764494, 6764512, 6764529, 6764691, 6764991, 6765784], '2018-09-21': [6765976, 6765985, 6766026, 6766182, 6766532, 6767315]}\n",
      "\n",
      "('A002', 'R051', '02-00-01', '59 ST') : {'2018-09-15': [6045231, 6045246, 6045257, 6045323, 6045486, 6045716], '2018-09-16': [6045808, 6045820, 6045831, 6045871, 6045958, 6046062], '2018-09-17': [6046110, 6046114, 6046139, 6046233, 6046460, 6047038], '2018-09-18': [6047161, 6047174, 6047204, 6047340, 6047570, 6048137], '2018-09-19': [6048245, 6048249, 6048270, 6048398, 6048618, 6049114], '2018-09-20': [6049254, 6049265, 6049284, 6049302, 6049429, 6049690, 6050307], '2018-09-21': [6050467, 6050476, 6050506, 6050651, 6050911, 6051527]}\n",
      "\n",
      "('A002', 'R051', '02-03-00', '59 ST') : {'2018-09-15': [1126210, 1126218, 1126219, 1126251, 1126361, 1126462], '2018-09-16': [1126529, 1126536, 1126542, 1126580, 1126643, 1126711], '2018-09-17': [1126747, 1126750, 1126769, 1126817, 1126913, 1127138], '2018-09-18': [1127201, 1127207, 1127219, 1127260, 1127372, 1127630], '2018-09-19': [1127712, 1127716, 1127723, 1127773, 1127866, 1128073], '2018-09-20': [1128147, 1128149, 1128159, 1128160, 1128208, 1128313, 1128568], '2018-09-21': [1128660, 1128665, 1128678, 1128737, 1128877, 1129094]}\n",
      "\n",
      "}\n"
     ]
    }
   ],
   "source": [
    "dict_head(problem_3b, 3)"
   ]
  },
  {
   "cell_type": "code",
   "execution_count": 74,
   "metadata": {},
   "outputs": [
    {
     "data": {
      "text/plain": [
       "[6759219, 6759234, 6759251, 6759330, 6759538, 6759808]"
      ]
     },
     "execution_count": 74,
     "metadata": {},
     "output_type": "execute_result"
    }
   ],
   "source": [
    "#nested dictionary allows dict[turnstyle][day] to access a list of entry recordings\n",
    "problem_3b[('A002', 'R051', '02-00-00', '59 ST')]['2018-09-15']"
   ]
  },
  {
   "cell_type": "code",
   "execution_count": 77,
   "metadata": {},
   "outputs": [],
   "source": [
    "def entry_totals(problem_3b):\n",
    "    \"\"\"\n",
    "    entry_totals() takes the problem_3 dataStructure and drills down to a day, sums the entries and \n",
    "    creates a new data structure with a form:\n",
    "    { station => (day, entry_total)... }\n",
    "    \"\"\"\n",
    "    out = {}\n",
    "    for station in problem_3b.keys() :\n",
    "        for day in problem_3b[station].keys() :\n",
    "            try : \n",
    "                vals = problem_3b[station][day]\n",
    "                first = vals[0]\n",
    "                last = vals[-1]\n",
    "                entries = last-first\n",
    "                #sometimes the turnstile is installed incorrectly and counts negative, this corrects\n",
    "                if entries < 0 :\n",
    "                    entries *= -1\n",
    "            except :\n",
    "                print(f'failed for {station} {day} {first} {last}')\n",
    "        out[station] = (day, entries)\n",
    "    return out\n",
    "\n",
    "problem_3c = entry_totals(problem_3b)"
   ]
  },
  {
   "cell_type": "code",
   "execution_count": 78,
   "metadata": {},
   "outputs": [
    {
     "name": "stdout",
     "output_type": "stream",
     "text": [
      "{\n",
      "\n",
      "('A002', 'R051', '02-00-00', '59 ST') : ('2018-09-21', 1339)\n",
      "\n",
      "('A002', 'R051', '02-00-01', '59 ST') : ('2018-09-21', 1060)\n",
      "\n",
      "('A002', 'R051', '02-03-00', '59 ST') : ('2018-09-21', 434)\n",
      "\n",
      "('A002', 'R051', '02-03-01', '59 ST') : ('2018-09-21', 1090)\n",
      "\n",
      "('A002', 'R051', '02-03-02', '59 ST') : ('2018-09-21', 1153)\n",
      "\n",
      "('A002', 'R051', '02-03-03', '59 ST') : ('2018-09-21', 1028)\n",
      "\n",
      "('A002', 'R051', '02-03-04', '59 ST') : ('2018-09-21', 1219)\n",
      "\n",
      "('A002', 'R051', '02-03-05', '59 ST') : ('2018-09-21', 1743)\n",
      "\n",
      "('A002', 'R051', '02-03-06', '59 ST') : ('2018-09-21', 1449)\n",
      "\n",
      "('A002', 'R051', '02-05-00', '59 ST') : ('2018-09-21', 0)\n",
      "\n",
      "}\n"
     ]
    }
   ],
   "source": [
    "dict_head(problem_3c, 10)"
   ]
  },
  {
   "cell_type": "code",
   "execution_count": null,
   "metadata": {},
   "outputs": [],
   "source": []
  }
 ],
 "metadata": {
  "kernelspec": {
   "display_name": "Python 3",
   "language": "python",
   "name": "python3"
  },
  "language_info": {
   "codemirror_mode": {
    "name": "ipython",
    "version": 3
   },
   "file_extension": ".py",
   "mimetype": "text/x-python",
   "name": "python",
   "nbconvert_exporter": "python",
   "pygments_lexer": "ipython3",
   "version": "3.6.5"
  }
 },
 "nbformat": 4,
 "nbformat_minor": 2
}
